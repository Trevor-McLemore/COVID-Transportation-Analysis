{
 "cells": [
  {
   "cell_type": "code",
   "execution_count": 223,
   "metadata": {},
   "outputs": [],
   "source": [
    "import numpy as np\n",
    "import pandas as pd\n",
    "import matplotlib.pyplot as plt\n",
    "%matplotlib inline\n",
    "plt.style.use('ggplot')"
   ]
  },
  {
   "cell_type": "code",
   "execution_count": 326,
   "metadata": {
    "scrolled": true
   },
   "outputs": [],
   "source": [
    "# county_adjac = pd.read_csv('county_adjacency.txt')\n",
    "\n",
    "with open('county_adjacency.txt', 'rb') as f:\n",
    "    string = ''\n",
    "    for _ in f:\n",
    "        string += f'{_}'\n",
    "    \n",
    "    nums_str = ''\n",
    "    marked_string = string.replace(\"n'b'\", \"~\")\n",
    "    for char in marked_string:\n",
    "        if char.isdigit() or char in '~':\n",
    "            nums_str += char\n",
    "    \n",
    "    neighbor_list = []\n",
    "    k = ''\n",
    "    nums_list = nums_str.split('~')\n",
    "    d = {}\n",
    "    \n",
    "    for num in nums_list:\n",
    "        if len(num) == 10:\n",
    "            d[k] = neighbor_list\n",
    "            k = ''\n",
    "            v = ''\n",
    "            for nu in range(5):\n",
    "                k += num[nu]\n",
    "            for n in range(5, 10):\n",
    "                v += num[n]\n",
    "            neighbor_list = [v]\n",
    "        if len(num) == 5:\n",
    "            neighbor_list.append(num)\n",
    "    d[k] = neighbor_list\n",
    "    d.pop('')\n",
    "            \n",
    "#     x = f.read()\n",
    "#     x"
   ]
  },
  {
   "cell_type": "code",
   "execution_count": 359,
   "metadata": {},
   "outputs": [
    {
     "name": "stdout",
     "output_type": "stream",
     "text": [
      "3213\n"
     ]
    }
   ],
   "source": [
    "print(len(d))\n",
    "# print(d)"
   ]
  },
  {
   "cell_type": "code",
   "execution_count": 102,
   "metadata": {},
   "outputs": [],
   "source": [
    "# neighbors=pd.DataFrame.from_dict(d,orient='index')\n",
    "# neighbors = neighbors.reset_index()\n",
    "# neighbors = neighbors.rename(columns={'index':'fips'})\n",
    "# # neighbors.describe()\n",
    "# print(neighbors.shape)\n",
    "# neighbors.head()"
   ]
  },
  {
   "cell_type": "code",
   "execution_count": 260,
   "metadata": {},
   "outputs": [],
   "source": [
    "# county_pop = pd.read_csv('covid_county_population_usafacts.csv')\n",
    "# county_pop = county_pop[['countyFIPS', 'population']]\n",
    "# print(county_pop.shape)"
   ]
  },
  {
   "cell_type": "code",
   "execution_count": 414,
   "metadata": {
    "scrolled": true
   },
   "outputs": [
    {
     "name": "stdout",
     "output_type": "stream",
     "text": [
      "(3195, 278)\n",
      "(3195, 2)\n"
     ]
    }
   ],
   "source": [
    "county_case = pd.read_csv('covid_confirmed_usafacts.csv')\n",
    "case_cumul = county_case[['countyFIPS', '10/21/20']]\n",
    "case_cumul = case_cumul.rename(columns={'countyFIPS':'fips'})\n",
    "case_cumul = case_cumul.rename(columns={'10/21/20':'covid_cases'})\n",
    "print(county_case.shape)\n",
    "print(case_cumul.shape)"
   ]
  },
  {
   "cell_type": "code",
   "execution_count": 339,
   "metadata": {},
   "outputs": [
    {
     "name": "stdout",
     "output_type": "stream",
     "text": [
      "(3195, 278)\n",
      "(3195, 2)\n"
     ]
    }
   ],
   "source": [
    "county_death = pd.read_csv('covid_deaths_usafacts.csv')\n",
    "death_cumul = county_death[['countyFIPS', '10/21/20']]\n",
    "death_cumul = death_cumul.rename(columns={'countyFIPS':'fips'})\n",
    "death_cumul = death_cumul.rename(columns={'10/21/20':'covid_deaths'})\n",
    "print(county_death.shape)\n",
    "print(death_cumul.shape)"
   ]
  },
  {
   "cell_type": "code",
   "execution_count": 338,
   "metadata": {},
   "outputs": [
    {
     "name": "stdout",
     "output_type": "stream",
     "text": [
      "(3142, 22)\n"
     ]
    }
   ],
   "source": [
    "county_transpo = pd.read_csv('County_Transportation_Profiles.csv')\n",
    "county_transpo = county_transpo.rename(columns={'County FIPS':'fips'})\n",
    "print(county_transpo.shape)\n",
    "# county_transpo.head()"
   ]
  },
  {
   "cell_type": "code",
   "execution_count": 560,
   "metadata": {
    "scrolled": true
   },
   "outputs": [
    {
     "name": "stdout",
     "output_type": "stream",
     "text": [
      "(3142, 23)\n",
      "Index(['County Name', 'State FIPS', 'state', 'com_airports',\n",
      "       'Non-Commercial -Civil Public Use Airports and Seaplane base',\n",
      "       'Non-Commercial -Other Aerodromes', 'bridges',\n",
      "       '% of Poor Condition Bridges', 'businesses', 'frac_transit_commuters',\n",
      "       'work_at_home', 'commute_in', 'commute_out', 'commute_within',\n",
      "       'resident_workers', 'residents', 'docks', 'marinas',\n",
      "       'Route miles of freight railroad',\n",
      "       '% of Medium to Fair Condition Bridges', 'miles_passenger_rail',\n",
      "       'covid_cases', 'covid_deaths'],\n",
      "      dtype='object')\n"
     ]
    }
   ],
   "source": [
    "tc = pd.merge(county_transpo, case_cumul, how = 'inner', on='fips')\n",
    "tcd = pd.merge(tc, death_cumul, how = 'inner', on='fips')\n",
    "tcd['fips'] = tcd['fips'].astype(str)\n",
    "tcd['fips'] = tcd['fips'].str.zfill(5)\n",
    "\n",
    "tcd = tcd.rename(columns={'State Name':'state','Primary and Commercial Airports':'com_airports',\\\n",
    "                         'Number of Bridges':'bridges','Number of business establishments':'businesses',\\\n",
    "                         'Percent of resident workers who commute by transit':'frac_transit_commuters',\\\n",
    "                         'Number of resident workers who work at home':'work_at_home',\\\n",
    "                         'Number of workers from other counties who commute to work in the county':'commute_in',\\\n",
    "                         'Number of resident workers who commute to work in other counties':'commute_out',\\\n",
    "                         'Number of resident workers who commute within county':'commute_within',\\\n",
    "                         'Number of resident workers':'resident_workers','Number of residents':'residents',\\\n",
    "                         'Total Marinas':'marinas','Total Docks':'docks',\\\n",
    "                         'Route miles of passenger railroad and rail transit':'miles_passenger_rail'})\n",
    "\n",
    "tcd.set_index('fips', inplace=True)\n",
    "\n",
    "print(tcd.shape)\n",
    "print(tcd.columns)"
   ]
  },
  {
   "cell_type": "code",
   "execution_count": 472,
   "metadata": {},
   "outputs": [
    {
     "name": "stdout",
     "output_type": "stream",
     "text": [
      "(3137, 23)\n",
      "3137\n"
     ]
    }
   ],
   "source": [
    "# tcd = tcd[tcd['fips'].isin(d2)]\n",
    "tcd = tcd[tcd.index.isin(d2)]\n",
    "print(tcd.shape)\n",
    "print(len(d2))"
   ]
  },
  {
   "cell_type": "code",
   "execution_count": 473,
   "metadata": {},
   "outputs": [
    {
     "name": "stdout",
     "output_type": "stream",
     "text": [
      "3137\n"
     ]
    }
   ],
   "source": [
    "d2 = {}\n",
    "val_list = []\n",
    "\n",
    "for k,val in d.items():\n",
    "    if tcd.index.isin([k]).any():\n",
    "        for v in val:\n",
    "            if v != k:\n",
    "                val_list.append(v)\n",
    "        d2[k] = val_list\n",
    "        val_list = []\n",
    "        \n",
    "print(len(d2))\n",
    "# print(d2)"
   ]
  },
  {
   "cell_type": "code",
   "execution_count": 474,
   "metadata": {},
   "outputs": [],
   "source": [
    "key_list = []\n",
    "case_lst = []\n",
    "death_ls = []\n",
    "resid_ls = []\n",
    "\n",
    "for k, val in d2.items():\n",
    "#     print(f'k=:{k}')\n",
    "    key_list.append(k)    \n",
    "    case_count = 0\n",
    "    death_count = 0\n",
    "    resid_count = 0\n",
    "    \n",
    "    for v in val:\n",
    "#         print(f'v=:{v}')\n",
    "        if tcd.index.isin([v]).any():\n",
    "            case_count = case_count + tcd.loc[v == tcd.index,['covid_cases']]['covid_cases'].values[0]\n",
    "            death_count = death_count + tcd.loc[v == tcd.index,['covid_deaths']]['covid_deaths'].values[0]\n",
    "            resid_count = resid_count + tcd.loc[v == tcd.index, ['residents']]['residents'].values[0]\n",
    "            \n",
    "#           print(f'\\n{case_count}\\n')\n",
    "\n",
    "    case_lst.append(case_count)\n",
    "    death_ls.append(death_count)\n",
    "    resid_ls.append(resid_count)"
   ]
  },
  {
   "cell_type": "code",
   "execution_count": 475,
   "metadata": {
    "scrolled": true
   },
   "outputs": [
    {
     "name": "stdout",
     "output_type": "stream",
     "text": [
      "3137\n",
      "3137\n",
      "3137\n",
      "3137\n",
      "['56023', '56025', '56027', '56029', '56031', '56033', '56035', '56037', '56039', '56041', '56043', '56045']\n",
      "[1816, 3371, 2005, 1736, 2950, 10629, 6091, 1885, 1085, 5000, 2831, 2178, 2578, 3583, 9179, 2022, 3001, 5776]\n",
      "[784, 155, 101, 109, 66, 62, 50, 11, 35, 16, 15, 23, 13, 25, 22, 218, 36, 26, 12, 31, 8, 45, 20, 24, 57, 5, 29, 55]\n",
      "[78120, 193775, 667925, 222380, 87525, 60280, 212515, 164565, 83840, 126665, 158645, 328625, 104650, 175920, 213090]\n"
     ]
    }
   ],
   "source": [
    "print(len(key_list))\n",
    "print(len(case_lst))\n",
    "print(len(death_ls))\n",
    "print(len(resid_ls))\n",
    "\n",
    "print(key_list[-12:])\n",
    "print(case_lst[-18:])\n",
    "print(death_ls[-28:])\n",
    "print(resid_ls[-15:])"
   ]
  },
  {
   "cell_type": "code",
   "execution_count": 476,
   "metadata": {},
   "outputs": [],
   "source": [
    "n_cases_per_mil_ls = []\n",
    "n_deaths_per_mil_ls = []\n",
    "d3 = {}\n",
    "\n",
    "for k, case, death, resid in zip(key_list, case_lst, death_ls, resid_ls):\n",
    "    \n",
    "    if resid == 0:\n",
    "        n_cases_per_mil = 0\n",
    "        n_deaths_per_mil = 0\n",
    "    else:\n",
    "        n_cases_per_mil = 1000000 * case / resid\n",
    "        n_deaths_per_mil = 1000000 * death / resid\n",
    "    \n",
    "    d3[k] = [n_cases_per_mil, n_deaths_per_mil]\n",
    "#     n_cases_per_mil_ls.append(n_cases_per_mil)\n",
    "#     n_deaths_per_mil_ls.append(n_deaths_per_mil)"
   ]
  },
  {
   "cell_type": "code",
   "execution_count": 477,
   "metadata": {
    "scrolled": false
   },
   "outputs": [
    {
     "name": "stdout",
     "output_type": "stream",
     "text": [
      "3137\n"
     ]
    }
   ],
   "source": [
    "print(len(d3))\n",
    "# print(len(n_cases_per_mil_ls))\n",
    "# print(len(n_deaths_per_mil_ls))\n",
    "\n",
    "# print(n_cases_per_mil_ls[-10:])\n",
    "# print(n_deaths_per_mil_ls[-10:])"
   ]
  },
  {
   "cell_type": "code",
   "execution_count": 478,
   "metadata": {},
   "outputs": [
    {
     "name": "stdout",
     "output_type": "stream",
     "text": [
      "       n_cases_per_mil  n_deaths_per_mil\n",
      "count      3137.000000       3137.000000\n",
      "mean      26230.851914        516.755312\n",
      "std       12052.130307        389.226528\n",
      "min           0.000000          0.000000\n",
      "25%       17752.141711        249.813338\n",
      "50%       25141.859450        417.536534\n",
      "75%       33753.607778        658.540191\n",
      "max       78505.929820       2919.969620\n",
      "(3137, 2)\n"
     ]
    },
    {
     "data": {
      "text/html": [
       "<div>\n",
       "<style scoped>\n",
       "    .dataframe tbody tr th:only-of-type {\n",
       "        vertical-align: middle;\n",
       "    }\n",
       "\n",
       "    .dataframe tbody tr th {\n",
       "        vertical-align: top;\n",
       "    }\n",
       "\n",
       "    .dataframe thead th {\n",
       "        text-align: right;\n",
       "    }\n",
       "</style>\n",
       "<table border=\"1\" class=\"dataframe\">\n",
       "  <thead>\n",
       "    <tr style=\"text-align: right;\">\n",
       "      <th></th>\n",
       "      <th>n_cases_per_mil</th>\n",
       "      <th>n_deaths_per_mil</th>\n",
       "    </tr>\n",
       "  </thead>\n",
       "  <tbody>\n",
       "    <tr>\n",
       "      <th>01001</th>\n",
       "      <td>42894.964741</td>\n",
       "      <td>828.900161</td>\n",
       "    </tr>\n",
       "    <tr>\n",
       "      <th>01003</th>\n",
       "      <td>38415.690455</td>\n",
       "      <td>787.430191</td>\n",
       "    </tr>\n",
       "    <tr>\n",
       "      <th>01005</th>\n",
       "      <td>37884.631392</td>\n",
       "      <td>610.415915</td>\n",
       "    </tr>\n",
       "    <tr>\n",
       "      <th>01007</th>\n",
       "      <td>37923.341943</td>\n",
       "      <td>563.209237</td>\n",
       "    </tr>\n",
       "    <tr>\n",
       "      <th>01009</th>\n",
       "      <td>35763.150172</td>\n",
       "      <td>577.727239</td>\n",
       "    </tr>\n",
       "  </tbody>\n",
       "</table>\n",
       "</div>"
      ],
      "text/plain": [
       "       n_cases_per_mil  n_deaths_per_mil\n",
       "01001     42894.964741        828.900161\n",
       "01003     38415.690455        787.430191\n",
       "01005     37884.631392        610.415915\n",
       "01007     37923.341943        563.209237\n",
       "01009     35763.150172        577.727239"
      ]
     },
     "execution_count": 478,
     "metadata": {},
     "output_type": "execute_result"
    }
   ],
   "source": [
    "# df['n_cases_per_mil_ls']['key_list'] = ____ to correspond to that ‘county_code’ index\n",
    "\n",
    "\n",
    "df_neighb=pd.DataFrame.from_dict(d3,orient='index')\n",
    "# df_neighb = df_neighb.reset_index()\n",
    "df_neighb.rename(columns={0:'n_cases_per_mil',1:'n_deaths_per_mil'}, inplace=True)\n",
    "print(df_neighb.describe())\n",
    "print(df_neighb.shape)\n",
    "df_neighb.head()"
   ]
  },
  {
   "cell_type": "code",
   "execution_count": 643,
   "metadata": {},
   "outputs": [],
   "source": [
    "tcdn = pd.merge(tcd, df_neighb, how = 'inner', left_index=True, right_index=True)\n",
    "# tcdn.head()"
   ]
  },
  {
   "cell_type": "code",
   "execution_count": 644,
   "metadata": {},
   "outputs": [],
   "source": [
    "df = tcdn[['state','residents','com_airports']].copy()\n",
    "df['cases_per_mil'] = 1000000 * tcdn['covid_cases'] / tcdn['residents']\n",
    "df['n_cases_per_mil'] = tcdn['n_cases_per_mil']\n",
    "df['deaths_per_mil'] = 1000000 * tcdn['covid_deaths'] / tcdn['residents']\n",
    "df['n_deaths_per_mil'] = tcdn['n_deaths_per_mil']\n",
    "df['businesses_per_k'] = 1000 * tcdn['businesses'] / tcdn['residents']\n",
    "df['frac_transit_commuters'] = tcdn['frac_transit_commuters']\n",
    "df['frac_home_worker'] = tcdn['work_at_home'] / tcdn['residents']\n",
    "df['frac_commute_in'] = tcd['commute_in'] / tcd['residents']\n",
    "df['frac_commute_out'] = tcdn['commute_out'] / tcdn['residents']\n",
    "df['frac_commute_within'] = tcd['commute_within'] / tcd['residents']\n",
    "\n",
    "df['frac_workers'] = tcdn['resident_workers'] / tcdn['residents']\n",
    "df['marinas'] = tcdn['marinas']\n",
    "df['docks'] = tcdn['docks']\n",
    "df['miles_passenger_rail'] = tcdn['miles_passenger_rail']"
   ]
  },
  {
   "cell_type": "code",
   "execution_count": 645,
   "metadata": {
    "scrolled": true
   },
   "outputs": [
    {
     "data": {
      "text/html": [
       "<div>\n",
       "<style scoped>\n",
       "    .dataframe tbody tr th:only-of-type {\n",
       "        vertical-align: middle;\n",
       "    }\n",
       "\n",
       "    .dataframe tbody tr th {\n",
       "        vertical-align: top;\n",
       "    }\n",
       "\n",
       "    .dataframe thead th {\n",
       "        text-align: right;\n",
       "    }\n",
       "</style>\n",
       "<table border=\"1\" class=\"dataframe\">\n",
       "  <thead>\n",
       "    <tr style=\"text-align: right;\">\n",
       "      <th></th>\n",
       "      <th>residents</th>\n",
       "      <th>com_airports</th>\n",
       "      <th>cases_per_mil</th>\n",
       "      <th>n_cases_per_mil</th>\n",
       "      <th>deaths_per_mil</th>\n",
       "      <th>n_deaths_per_mil</th>\n",
       "      <th>businesses_per_k</th>\n",
       "      <th>frac_transit_commuters</th>\n",
       "      <th>frac_home_worker</th>\n",
       "      <th>frac_commute_in</th>\n",
       "      <th>frac_commute_out</th>\n",
       "      <th>frac_commute_within</th>\n",
       "      <th>frac_workers</th>\n",
       "      <th>marinas</th>\n",
       "      <th>docks</th>\n",
       "      <th>miles_passenger_rail</th>\n",
       "    </tr>\n",
       "  </thead>\n",
       "  <tbody>\n",
       "    <tr>\n",
       "      <th>count</th>\n",
       "      <td>3.137000e+03</td>\n",
       "      <td>3012.000000</td>\n",
       "      <td>3137.000000</td>\n",
       "      <td>3137.000000</td>\n",
       "      <td>3137.000000</td>\n",
       "      <td>3137.000000</td>\n",
       "      <td>3135.000000</td>\n",
       "      <td>3137.000000</td>\n",
       "      <td>3134.000000</td>\n",
       "      <td>3137.000000</td>\n",
       "      <td>3137.000000</td>\n",
       "      <td>3137.000000</td>\n",
       "      <td>3137.000000</td>\n",
       "      <td>529.000000</td>\n",
       "      <td>529.000000</td>\n",
       "      <td>2683.000000</td>\n",
       "    </tr>\n",
       "    <tr>\n",
       "      <th>mean</th>\n",
       "      <td>1.011998e+05</td>\n",
       "      <td>0.146082</td>\n",
       "      <td>24562.069718</td>\n",
       "      <td>26230.851914</td>\n",
       "      <td>512.381042</td>\n",
       "      <td>516.755312</td>\n",
       "      <td>23.223055</td>\n",
       "      <td>0.009559</td>\n",
       "      <td>0.020900</td>\n",
       "      <td>0.147361</td>\n",
       "      <td>0.128174</td>\n",
       "      <td>0.281559</td>\n",
       "      <td>0.428782</td>\n",
       "      <td>0.011342</td>\n",
       "      <td>5.880907</td>\n",
       "      <td>10.135520</td>\n",
       "    </tr>\n",
       "    <tr>\n",
       "      <th>std</th>\n",
       "      <td>3.251810e+05</td>\n",
       "      <td>0.439545</td>\n",
       "      <td>15986.741331</td>\n",
       "      <td>12052.130307</td>\n",
       "      <td>566.824955</td>\n",
       "      <td>389.226528</td>\n",
       "      <td>9.452341</td>\n",
       "      <td>0.030918</td>\n",
       "      <td>0.015649</td>\n",
       "      <td>0.080671</td>\n",
       "      <td>0.078858</td>\n",
       "      <td>0.095255</td>\n",
       "      <td>0.064691</td>\n",
       "      <td>0.150328</td>\n",
       "      <td>11.427762</td>\n",
       "      <td>23.607214</td>\n",
       "    </tr>\n",
       "    <tr>\n",
       "      <th>min</th>\n",
       "      <td>7.500000e+01</td>\n",
       "      <td>0.000000</td>\n",
       "      <td>0.000000</td>\n",
       "      <td>0.000000</td>\n",
       "      <td>0.000000</td>\n",
       "      <td>0.000000</td>\n",
       "      <td>4.233111</td>\n",
       "      <td>0.000000</td>\n",
       "      <td>0.000323</td>\n",
       "      <td>0.002024</td>\n",
       "      <td>0.000000</td>\n",
       "      <td>0.039810</td>\n",
       "      <td>0.132088</td>\n",
       "      <td>0.000000</td>\n",
       "      <td>0.000000</td>\n",
       "      <td>0.000000</td>\n",
       "    </tr>\n",
       "    <tr>\n",
       "      <th>25%</th>\n",
       "      <td>1.099500e+04</td>\n",
       "      <td>0.000000</td>\n",
       "      <td>13451.150938</td>\n",
       "      <td>17752.141711</td>\n",
       "      <td>127.795527</td>\n",
       "      <td>249.813338</td>\n",
       "      <td>17.323566</td>\n",
       "      <td>0.001140</td>\n",
       "      <td>0.011706</td>\n",
       "      <td>0.082168</td>\n",
       "      <td>0.064331</td>\n",
       "      <td>0.209816</td>\n",
       "      <td>0.385934</td>\n",
       "      <td>0.000000</td>\n",
       "      <td>1.000000</td>\n",
       "      <td>0.000000</td>\n",
       "    </tr>\n",
       "    <tr>\n",
       "      <th>50%</th>\n",
       "      <td>2.574500e+04</td>\n",
       "      <td>0.000000</td>\n",
       "      <td>21854.008061</td>\n",
       "      <td>25141.859450</td>\n",
       "      <td>338.696020</td>\n",
       "      <td>417.536534</td>\n",
       "      <td>21.604192</td>\n",
       "      <td>0.003396</td>\n",
       "      <td>0.017610</td>\n",
       "      <td>0.138671</td>\n",
       "      <td>0.116763</td>\n",
       "      <td>0.275202</td>\n",
       "      <td>0.432063</td>\n",
       "      <td>0.000000</td>\n",
       "      <td>2.000000</td>\n",
       "      <td>0.000000</td>\n",
       "    </tr>\n",
       "    <tr>\n",
       "      <th>75%</th>\n",
       "      <td>6.751000e+04</td>\n",
       "      <td>0.000000</td>\n",
       "      <td>32914.251524</td>\n",
       "      <td>33753.607778</td>\n",
       "      <td>692.817117</td>\n",
       "      <td>658.540191</td>\n",
       "      <td>27.240579</td>\n",
       "      <td>0.007817</td>\n",
       "      <td>0.025618</td>\n",
       "      <td>0.202243</td>\n",
       "      <td>0.182390</td>\n",
       "      <td>0.348924</td>\n",
       "      <td>0.474704</td>\n",
       "      <td>0.000000</td>\n",
       "      <td>6.000000</td>\n",
       "      <td>12.250000</td>\n",
       "    </tr>\n",
       "    <tr>\n",
       "      <th>max</th>\n",
       "      <td>1.005716e+07</td>\n",
       "      <td>8.000000</td>\n",
       "      <td>218820.577164</td>\n",
       "      <td>78505.929820</td>\n",
       "      <td>5031.446541</td>\n",
       "      <td>2919.969620</td>\n",
       "      <td>134.545455</td>\n",
       "      <td>0.617606</td>\n",
       "      <td>0.231293</td>\n",
       "      <td>0.464455</td>\n",
       "      <td>0.397472</td>\n",
       "      <td>0.743939</td>\n",
       "      <td>0.777778</td>\n",
       "      <td>3.000000</td>\n",
       "      <td>101.000000</td>\n",
       "      <td>431.500000</td>\n",
       "    </tr>\n",
       "  </tbody>\n",
       "</table>\n",
       "</div>"
      ],
      "text/plain": [
       "          residents  com_airports  cases_per_mil  n_cases_per_mil  \\\n",
       "count  3.137000e+03   3012.000000    3137.000000      3137.000000   \n",
       "mean   1.011998e+05      0.146082   24562.069718     26230.851914   \n",
       "std    3.251810e+05      0.439545   15986.741331     12052.130307   \n",
       "min    7.500000e+01      0.000000       0.000000         0.000000   \n",
       "25%    1.099500e+04      0.000000   13451.150938     17752.141711   \n",
       "50%    2.574500e+04      0.000000   21854.008061     25141.859450   \n",
       "75%    6.751000e+04      0.000000   32914.251524     33753.607778   \n",
       "max    1.005716e+07      8.000000  218820.577164     78505.929820   \n",
       "\n",
       "       deaths_per_mil  n_deaths_per_mil  businesses_per_k  \\\n",
       "count     3137.000000       3137.000000       3135.000000   \n",
       "mean       512.381042        516.755312         23.223055   \n",
       "std        566.824955        389.226528          9.452341   \n",
       "min          0.000000          0.000000          4.233111   \n",
       "25%        127.795527        249.813338         17.323566   \n",
       "50%        338.696020        417.536534         21.604192   \n",
       "75%        692.817117        658.540191         27.240579   \n",
       "max       5031.446541       2919.969620        134.545455   \n",
       "\n",
       "       frac_transit_commuters  frac_home_worker  frac_commute_in  \\\n",
       "count             3137.000000       3134.000000      3137.000000   \n",
       "mean                 0.009559          0.020900         0.147361   \n",
       "std                  0.030918          0.015649         0.080671   \n",
       "min                  0.000000          0.000323         0.002024   \n",
       "25%                  0.001140          0.011706         0.082168   \n",
       "50%                  0.003396          0.017610         0.138671   \n",
       "75%                  0.007817          0.025618         0.202243   \n",
       "max                  0.617606          0.231293         0.464455   \n",
       "\n",
       "       frac_commute_out  frac_commute_within  frac_workers     marinas  \\\n",
       "count       3137.000000          3137.000000   3137.000000  529.000000   \n",
       "mean           0.128174             0.281559      0.428782    0.011342   \n",
       "std            0.078858             0.095255      0.064691    0.150328   \n",
       "min            0.000000             0.039810      0.132088    0.000000   \n",
       "25%            0.064331             0.209816      0.385934    0.000000   \n",
       "50%            0.116763             0.275202      0.432063    0.000000   \n",
       "75%            0.182390             0.348924      0.474704    0.000000   \n",
       "max            0.397472             0.743939      0.777778    3.000000   \n",
       "\n",
       "            docks  miles_passenger_rail  \n",
       "count  529.000000           2683.000000  \n",
       "mean     5.880907             10.135520  \n",
       "std     11.427762             23.607214  \n",
       "min      0.000000              0.000000  \n",
       "25%      1.000000              0.000000  \n",
       "50%      2.000000              0.000000  \n",
       "75%      6.000000             12.250000  \n",
       "max    101.000000            431.500000  "
      ]
     },
     "execution_count": 645,
     "metadata": {},
     "output_type": "execute_result"
    }
   ],
   "source": [
    "df.describe()"
   ]
  },
  {
   "cell_type": "code",
   "execution_count": 648,
   "metadata": {},
   "outputs": [],
   "source": [
    "def split_col_h(df1,c):\n",
    "    return df1[df1[c] >= df1[c].median()]   \n",
    "\n",
    "def split_col_l(df1,c):\n",
    "    return df1[df1[c] < df1[c].median()]\n",
    "\n",
    "names_h = ['com_airports_h','n_cases_h','n_deaths_h','businesses_den_h',\\\n",
    "           'transit_commuters_h','home_worker_h','commute_in_h','commute_out_h',\\\n",
    "           'commute_within_h','workers_h','marinas_h','docks_h','rail_h']\n",
    "names_l = ['com_airports_l','n_cases_l','n_deaths_l','businesses_den_l',\\\n",
    "           'transit_commuters_l','home_worker_l','commute_in_l','commute_out_l',\\\n",
    "           'commute_within_l','workers_l','marinas_l','docks_l','rail_l']\n",
    "columns_ = ['com_airports','n_cases_per_mil','n_deaths_per_mil','businesses_per_k',\\\n",
    "            'frac_transit_commuters','frac_home_worker','frac_commute_in',\\\n",
    "           'frac_commute_out','frac_commute_within','frac_workers','marinas','docks',\\\n",
    "           'miles_passenger_rail']\n"
   ]
  },
  {
   "cell_type": "code",
   "execution_count": 646,
   "metadata": {},
   "outputs": [
    {
     "data": {
      "text/plain": [
       "0.003395586"
      ]
     },
     "execution_count": 646,
     "metadata": {},
     "output_type": "execute_result"
    }
   ],
   "source": [
    "df['frac_transit_commuters'].median()"
   ]
  },
  {
   "cell_type": "code",
   "execution_count": 654,
   "metadata": {
    "scrolled": true
   },
   "outputs": [
    {
     "name": "stdout",
     "output_type": "stream",
     "text": [
      "com_airports_h\n",
      "n_cases_h\n",
      "n_deaths_h\n",
      "businesses_den_h\n",
      "transit_commuters_h\n",
      "home_worker_h\n",
      "commute_in_h\n",
      "commute_out_h\n",
      "commute_within_h\n",
      "workers_h\n",
      "marinas_h\n",
      "docks_h\n",
      "rail_h\n"
     ]
    }
   ],
   "source": [
    "d = {}\n",
    "\n",
    "for nh, nl, c in zip(names_h, names_l, columns_):\n",
    "    print(nh)\n",
    "    d[nh] = split_col_h(df,c)\n",
    "    d[nl] = split_col_l(df,c)"
   ]
  },
  {
   "cell_type": "code",
   "execution_count": 655,
   "metadata": {},
   "outputs": [
    {
     "data": {
      "text/html": [
       "<div>\n",
       "<style scoped>\n",
       "    .dataframe tbody tr th:only-of-type {\n",
       "        vertical-align: middle;\n",
       "    }\n",
       "\n",
       "    .dataframe tbody tr th {\n",
       "        vertical-align: top;\n",
       "    }\n",
       "\n",
       "    .dataframe thead th {\n",
       "        text-align: right;\n",
       "    }\n",
       "</style>\n",
       "<table border=\"1\" class=\"dataframe\">\n",
       "  <thead>\n",
       "    <tr style=\"text-align: right;\">\n",
       "      <th></th>\n",
       "      <th>state</th>\n",
       "      <th>residents</th>\n",
       "      <th>com_airports</th>\n",
       "      <th>cases_per_mil</th>\n",
       "      <th>n_cases_per_mil</th>\n",
       "      <th>deaths_per_mil</th>\n",
       "      <th>n_deaths_per_mil</th>\n",
       "      <th>businesses_per_k</th>\n",
       "      <th>frac_transit_commuters</th>\n",
       "      <th>frac_home_worker</th>\n",
       "      <th>frac_commute_in</th>\n",
       "      <th>frac_commute_out</th>\n",
       "      <th>frac_commute_within</th>\n",
       "      <th>frac_workers</th>\n",
       "      <th>marinas</th>\n",
       "      <th>docks</th>\n",
       "      <th>miles_passenger_rail</th>\n",
       "    </tr>\n",
       "  </thead>\n",
       "  <tbody>\n",
       "    <tr>\n",
       "      <th>01005</th>\n",
       "      <td>Alabama</td>\n",
       "      <td>26615</td>\n",
       "      <td>0.0</td>\n",
       "      <td>37422.506106</td>\n",
       "      <td>37884.631392</td>\n",
       "      <td>338.155176</td>\n",
       "      <td>610.415915</td>\n",
       "      <td>17.095623</td>\n",
       "      <td>0.003984</td>\n",
       "      <td>0.004133</td>\n",
       "      <td>0.088972</td>\n",
       "      <td>0.070299</td>\n",
       "      <td>0.240278</td>\n",
       "      <td>0.330077</td>\n",
       "      <td>0.0</td>\n",
       "      <td>0.0</td>\n",
       "      <td>0.0</td>\n",
       "    </tr>\n",
       "    <tr>\n",
       "      <th>01007</th>\n",
       "      <td>Alabama</td>\n",
       "      <td>22570</td>\n",
       "      <td>0.0</td>\n",
       "      <td>35489.587949</td>\n",
       "      <td>37923.341943</td>\n",
       "      <td>620.292424</td>\n",
       "      <td>563.209237</td>\n",
       "      <td>12.583075</td>\n",
       "      <td>0.004710</td>\n",
       "      <td>0.004431</td>\n",
       "      <td>0.215685</td>\n",
       "      <td>0.213381</td>\n",
       "      <td>0.151086</td>\n",
       "      <td>0.366859</td>\n",
       "      <td>NaN</td>\n",
       "      <td>NaN</td>\n",
       "      <td>5.5</td>\n",
       "    </tr>\n",
       "    <tr>\n",
       "      <th>01011</th>\n",
       "      <td>Alabama</td>\n",
       "      <td>10550</td>\n",
       "      <td>0.0</td>\n",
       "      <td>60379.146919</td>\n",
       "      <td>39835.886214</td>\n",
       "      <td>1611.374408</td>\n",
       "      <td>659.190372</td>\n",
       "      <td>10.142180</td>\n",
       "      <td>0.003601</td>\n",
       "      <td>0.010427</td>\n",
       "      <td>0.161043</td>\n",
       "      <td>0.157725</td>\n",
       "      <td>0.233649</td>\n",
       "      <td>0.394787</td>\n",
       "      <td>NaN</td>\n",
       "      <td>NaN</td>\n",
       "      <td>NaN</td>\n",
       "    </tr>\n",
       "    <tr>\n",
       "      <th>01019</th>\n",
       "      <td>Alabama</td>\n",
       "      <td>25895</td>\n",
       "      <td>0.0</td>\n",
       "      <td>27920.447963</td>\n",
       "      <td>39160.973732</td>\n",
       "      <td>540.644912</td>\n",
       "      <td>540.962400</td>\n",
       "      <td>13.940915</td>\n",
       "      <td>0.005528</td>\n",
       "      <td>0.007337</td>\n",
       "      <td>0.194400</td>\n",
       "      <td>0.092103</td>\n",
       "      <td>0.188453</td>\n",
       "      <td>0.384244</td>\n",
       "      <td>NaN</td>\n",
       "      <td>NaN</td>\n",
       "      <td>NaN</td>\n",
       "    </tr>\n",
       "    <tr>\n",
       "      <th>01037</th>\n",
       "      <td>Alabama</td>\n",
       "      <td>10865</td>\n",
       "      <td>0.0</td>\n",
       "      <td>18315.692591</td>\n",
       "      <td>35852.172794</td>\n",
       "      <td>276.115969</td>\n",
       "      <td>598.429926</td>\n",
       "      <td>8.835711</td>\n",
       "      <td>0.005510</td>\n",
       "      <td>0.010584</td>\n",
       "      <td>0.267188</td>\n",
       "      <td>0.264979</td>\n",
       "      <td>0.068109</td>\n",
       "      <td>0.334100</td>\n",
       "      <td>NaN</td>\n",
       "      <td>NaN</td>\n",
       "      <td>0.0</td>\n",
       "    </tr>\n",
       "    <tr>\n",
       "      <th>...</th>\n",
       "      <td>...</td>\n",
       "      <td>...</td>\n",
       "      <td>...</td>\n",
       "      <td>...</td>\n",
       "      <td>...</td>\n",
       "      <td>...</td>\n",
       "      <td>...</td>\n",
       "      <td>...</td>\n",
       "      <td>...</td>\n",
       "      <td>...</td>\n",
       "      <td>...</td>\n",
       "      <td>...</td>\n",
       "      <td>...</td>\n",
       "      <td>...</td>\n",
       "      <td>...</td>\n",
       "      <td>...</td>\n",
       "      <td>...</td>\n",
       "    </tr>\n",
       "    <tr>\n",
       "      <th>56035</th>\n",
       "      <td>Wyoming</td>\n",
       "      <td>10030</td>\n",
       "      <td>0.0</td>\n",
       "      <td>15353.938185</td>\n",
       "      <td>20352.899380</td>\n",
       "      <td>99.700897</td>\n",
       "      <td>157.896814</td>\n",
       "      <td>42.273180</td>\n",
       "      <td>0.003714</td>\n",
       "      <td>0.029910</td>\n",
       "      <td>0.029910</td>\n",
       "      <td>0.024028</td>\n",
       "      <td>0.507478</td>\n",
       "      <td>0.536889</td>\n",
       "      <td>NaN</td>\n",
       "      <td>NaN</td>\n",
       "      <td>NaN</td>\n",
       "    </tr>\n",
       "    <tr>\n",
       "      <th>56037</th>\n",
       "      <td>Wyoming</td>\n",
       "      <td>44810</td>\n",
       "      <td>1.0</td>\n",
       "      <td>9729.970989</td>\n",
       "      <td>22585.016862</td>\n",
       "      <td>44.632894</td>\n",
       "      <td>151.281162</td>\n",
       "      <td>27.850926</td>\n",
       "      <td>0.023457</td>\n",
       "      <td>0.008927</td>\n",
       "      <td>0.016514</td>\n",
       "      <td>0.010466</td>\n",
       "      <td>0.487726</td>\n",
       "      <td>0.504240</td>\n",
       "      <td>NaN</td>\n",
       "      <td>NaN</td>\n",
       "      <td>0.0</td>\n",
       "    </tr>\n",
       "    <tr>\n",
       "      <th>56039</th>\n",
       "      <td>Wyoming</td>\n",
       "      <td>22625</td>\n",
       "      <td>1.0</td>\n",
       "      <td>31602.209945</td>\n",
       "      <td>27931.532902</td>\n",
       "      <td>44.198895</td>\n",
       "      <td>173.449981</td>\n",
       "      <td>94.585635</td>\n",
       "      <td>0.062455</td>\n",
       "      <td>0.034917</td>\n",
       "      <td>0.034254</td>\n",
       "      <td>0.015912</td>\n",
       "      <td>0.584309</td>\n",
       "      <td>0.619227</td>\n",
       "      <td>NaN</td>\n",
       "      <td>NaN</td>\n",
       "      <td>NaN</td>\n",
       "    </tr>\n",
       "    <tr>\n",
       "      <th>56041</th>\n",
       "      <td>Wyoming</td>\n",
       "      <td>20895</td>\n",
       "      <td>0.0</td>\n",
       "      <td>19478.344101</td>\n",
       "      <td>19321.548017</td>\n",
       "      <td>95.716679</td>\n",
       "      <td>47.778309</td>\n",
       "      <td>26.800670</td>\n",
       "      <td>0.034264</td>\n",
       "      <td>0.013400</td>\n",
       "      <td>0.078105</td>\n",
       "      <td>0.052309</td>\n",
       "      <td>0.367791</td>\n",
       "      <td>0.445561</td>\n",
       "      <td>NaN</td>\n",
       "      <td>NaN</td>\n",
       "      <td>0.0</td>\n",
       "    </tr>\n",
       "    <tr>\n",
       "      <th>56045</th>\n",
       "      <td>Wyoming</td>\n",
       "      <td>7175</td>\n",
       "      <td>0.0</td>\n",
       "      <td>14355.400697</td>\n",
       "      <td>27105.917687</td>\n",
       "      <td>0.000000</td>\n",
       "      <td>258.106903</td>\n",
       "      <td>30.940767</td>\n",
       "      <td>0.074303</td>\n",
       "      <td>0.025087</td>\n",
       "      <td>0.119721</td>\n",
       "      <td>0.114146</td>\n",
       "      <td>0.329617</td>\n",
       "      <td>0.450174</td>\n",
       "      <td>NaN</td>\n",
       "      <td>NaN</td>\n",
       "      <td>0.0</td>\n",
       "    </tr>\n",
       "  </tbody>\n",
       "</table>\n",
       "<p>1569 rows × 17 columns</p>\n",
       "</div>"
      ],
      "text/plain": [
       "         state  residents  com_airports  cases_per_mil  n_cases_per_mil  \\\n",
       "01005  Alabama      26615           0.0   37422.506106     37884.631392   \n",
       "01007  Alabama      22570           0.0   35489.587949     37923.341943   \n",
       "01011  Alabama      10550           0.0   60379.146919     39835.886214   \n",
       "01019  Alabama      25895           0.0   27920.447963     39160.973732   \n",
       "01037  Alabama      10865           0.0   18315.692591     35852.172794   \n",
       "...        ...        ...           ...            ...              ...   \n",
       "56035  Wyoming      10030           0.0   15353.938185     20352.899380   \n",
       "56037  Wyoming      44810           1.0    9729.970989     22585.016862   \n",
       "56039  Wyoming      22625           1.0   31602.209945     27931.532902   \n",
       "56041  Wyoming      20895           0.0   19478.344101     19321.548017   \n",
       "56045  Wyoming       7175           0.0   14355.400697     27105.917687   \n",
       "\n",
       "       deaths_per_mil  n_deaths_per_mil  businesses_per_k  \\\n",
       "01005      338.155176        610.415915         17.095623   \n",
       "01007      620.292424        563.209237         12.583075   \n",
       "01011     1611.374408        659.190372         10.142180   \n",
       "01019      540.644912        540.962400         13.940915   \n",
       "01037      276.115969        598.429926          8.835711   \n",
       "...               ...               ...               ...   \n",
       "56035       99.700897        157.896814         42.273180   \n",
       "56037       44.632894        151.281162         27.850926   \n",
       "56039       44.198895        173.449981         94.585635   \n",
       "56041       95.716679         47.778309         26.800670   \n",
       "56045        0.000000        258.106903         30.940767   \n",
       "\n",
       "       frac_transit_commuters  frac_home_worker  frac_commute_in  \\\n",
       "01005                0.003984          0.004133         0.088972   \n",
       "01007                0.004710          0.004431         0.215685   \n",
       "01011                0.003601          0.010427         0.161043   \n",
       "01019                0.005528          0.007337         0.194400   \n",
       "01037                0.005510          0.010584         0.267188   \n",
       "...                       ...               ...              ...   \n",
       "56035                0.003714          0.029910         0.029910   \n",
       "56037                0.023457          0.008927         0.016514   \n",
       "56039                0.062455          0.034917         0.034254   \n",
       "56041                0.034264          0.013400         0.078105   \n",
       "56045                0.074303          0.025087         0.119721   \n",
       "\n",
       "       frac_commute_out  frac_commute_within  frac_workers  marinas  docks  \\\n",
       "01005          0.070299             0.240278      0.330077      0.0    0.0   \n",
       "01007          0.213381             0.151086      0.366859      NaN    NaN   \n",
       "01011          0.157725             0.233649      0.394787      NaN    NaN   \n",
       "01019          0.092103             0.188453      0.384244      NaN    NaN   \n",
       "01037          0.264979             0.068109      0.334100      NaN    NaN   \n",
       "...                 ...                  ...           ...      ...    ...   \n",
       "56035          0.024028             0.507478      0.536889      NaN    NaN   \n",
       "56037          0.010466             0.487726      0.504240      NaN    NaN   \n",
       "56039          0.015912             0.584309      0.619227      NaN    NaN   \n",
       "56041          0.052309             0.367791      0.445561      NaN    NaN   \n",
       "56045          0.114146             0.329617      0.450174      NaN    NaN   \n",
       "\n",
       "       miles_passenger_rail  \n",
       "01005                   0.0  \n",
       "01007                   5.5  \n",
       "01011                   NaN  \n",
       "01019                   NaN  \n",
       "01037                   0.0  \n",
       "...                     ...  \n",
       "56035                   NaN  \n",
       "56037                   0.0  \n",
       "56039                   NaN  \n",
       "56041                   0.0  \n",
       "56045                   0.0  \n",
       "\n",
       "[1569 rows x 17 columns]"
      ]
     },
     "execution_count": 655,
     "metadata": {},
     "output_type": "execute_result"
    }
   ],
   "source": [
    "d['transit_commuters_h']"
   ]
  },
  {
   "cell_type": "code",
   "execution_count": 658,
   "metadata": {
    "scrolled": true
   },
   "outputs": [],
   "source": [
    "# split_col_h(df, 'frac_transit_commuters')"
   ]
  },
  {
   "cell_type": "code",
   "execution_count": 588,
   "metadata": {},
   "outputs": [
    {
     "data": {
      "text/plain": [
       "(-0.001, 0.0034]    1569\n",
       "(0.0034, 0.618]     1568\n",
       "Name: frac_transit_commuters, dtype: int64"
      ]
     },
     "execution_count": 588,
     "metadata": {},
     "output_type": "execute_result"
    }
   ],
   "source": [
    "# new_df = pd.cut(df['frac_transit_commuters'], \\\n",
    "# [0,0.003396,0.617607], labels=None,  include_lowest=True)\n",
    "\n",
    "# new_df.value_counts()"
   ]
  },
  {
   "cell_type": "code",
   "execution_count": 542,
   "metadata": {},
   "outputs": [
    {
     "data": {
      "text/html": [
       "<div>\n",
       "<style scoped>\n",
       "    .dataframe tbody tr th:only-of-type {\n",
       "        vertical-align: middle;\n",
       "    }\n",
       "\n",
       "    .dataframe tbody tr th {\n",
       "        vertical-align: top;\n",
       "    }\n",
       "\n",
       "    .dataframe thead th {\n",
       "        text-align: right;\n",
       "    }\n",
       "</style>\n",
       "<table border=\"1\" class=\"dataframe\">\n",
       "  <thead>\n",
       "    <tr style=\"text-align: right;\">\n",
       "      <th></th>\n",
       "      <th>residents</th>\n",
       "      <th>com_airports</th>\n",
       "      <th>cases_per_mil</th>\n",
       "      <th>n_cases_per_mil</th>\n",
       "      <th>deaths_per_mil</th>\n",
       "      <th>n_deaths_per_mil</th>\n",
       "      <th>businesses_per_k</th>\n",
       "      <th>%transit_commuters</th>\n",
       "      <th>%home_worker</th>\n",
       "      <th>%commute_in</th>\n",
       "      <th>%commute_out</th>\n",
       "      <th>%workers</th>\n",
       "      <th>marinas</th>\n",
       "      <th>docks</th>\n",
       "      <th>miles_passenger_rail</th>\n",
       "    </tr>\n",
       "    <tr>\n",
       "      <th>state</th>\n",
       "      <th></th>\n",
       "      <th></th>\n",
       "      <th></th>\n",
       "      <th></th>\n",
       "      <th></th>\n",
       "      <th></th>\n",
       "      <th></th>\n",
       "      <th></th>\n",
       "      <th></th>\n",
       "      <th></th>\n",
       "      <th></th>\n",
       "      <th></th>\n",
       "      <th></th>\n",
       "      <th></th>\n",
       "      <th></th>\n",
       "    </tr>\n",
       "  </thead>\n",
       "  <tbody>\n",
       "    <tr>\n",
       "      <th>Mississippi</th>\n",
       "      <td>36453.780488</td>\n",
       "      <td>0.088608</td>\n",
       "      <td>42046.635536</td>\n",
       "      <td>40882.370567</td>\n",
       "      <td>1352.882258</td>\n",
       "      <td>1220.792409</td>\n",
       "      <td>17.282610</td>\n",
       "      <td>0.004325</td>\n",
       "      <td>0.007737</td>\n",
       "      <td>0.151962</td>\n",
       "      <td>0.126391</td>\n",
       "      <td>0.366052</td>\n",
       "      <td>0.000000</td>\n",
       "      <td>3.266667</td>\n",
       "      <td>8.095588</td>\n",
       "    </tr>\n",
       "    <tr>\n",
       "      <th>Florida</th>\n",
       "      <td>297528.880597</td>\n",
       "      <td>0.287879</td>\n",
       "      <td>41659.309143</td>\n",
       "      <td>38588.084363</td>\n",
       "      <td>801.153318</td>\n",
       "      <td>763.966548</td>\n",
       "      <td>21.717755</td>\n",
       "      <td>0.010743</td>\n",
       "      <td>0.018227</td>\n",
       "      <td>0.113792</td>\n",
       "      <td>0.105818</td>\n",
       "      <td>0.379421</td>\n",
       "      <td>0.095238</td>\n",
       "      <td>7.714286</td>\n",
       "      <td>10.035000</td>\n",
       "    </tr>\n",
       "    <tr>\n",
       "      <th>Louisiana</th>\n",
       "      <td>72588.828125</td>\n",
       "      <td>0.109375</td>\n",
       "      <td>40979.939891</td>\n",
       "      <td>38334.530220</td>\n",
       "      <td>1264.353230</td>\n",
       "      <td>1169.370614</td>\n",
       "      <td>18.561908</td>\n",
       "      <td>0.005455</td>\n",
       "      <td>0.008752</td>\n",
       "      <td>0.151273</td>\n",
       "      <td>0.137814</td>\n",
       "      <td>0.388845</td>\n",
       "      <td>0.000000</td>\n",
       "      <td>15.343750</td>\n",
       "      <td>7.629091</td>\n",
       "    </tr>\n",
       "    <tr>\n",
       "      <th>North Dakota</th>\n",
       "      <td>13890.000000</td>\n",
       "      <td>0.153846</td>\n",
       "      <td>39371.152418</td>\n",
       "      <td>43961.431971</td>\n",
       "      <td>610.632398</td>\n",
       "      <td>619.133854</td>\n",
       "      <td>34.858687</td>\n",
       "      <td>0.003712</td>\n",
       "      <td>0.044069</td>\n",
       "      <td>0.110225</td>\n",
       "      <td>0.100667</td>\n",
       "      <td>0.496195</td>\n",
       "      <td>NaN</td>\n",
       "      <td>NaN</td>\n",
       "      <td>8.470000</td>\n",
       "    </tr>\n",
       "    <tr>\n",
       "      <th>Tennessee</th>\n",
       "      <td>68926.368421</td>\n",
       "      <td>0.070588</td>\n",
       "      <td>38889.184392</td>\n",
       "      <td>34341.278290</td>\n",
       "      <td>520.799225</td>\n",
       "      <td>468.451309</td>\n",
       "      <td>16.392765</td>\n",
       "      <td>0.002930</td>\n",
       "      <td>0.013745</td>\n",
       "      <td>0.163687</td>\n",
       "      <td>0.147583</td>\n",
       "      <td>0.395305</td>\n",
       "      <td>0.000000</td>\n",
       "      <td>2.272727</td>\n",
       "      <td>2.343836</td>\n",
       "    </tr>\n",
       "    <tr>\n",
       "      <th>Alabama</th>\n",
       "      <td>72255.895522</td>\n",
       "      <td>0.090909</td>\n",
       "      <td>38584.669904</td>\n",
       "      <td>37901.643419</td>\n",
       "      <td>769.923018</td>\n",
       "      <td>726.005701</td>\n",
       "      <td>17.310386</td>\n",
       "      <td>0.002732</td>\n",
       "      <td>0.009441</td>\n",
       "      <td>0.149890</td>\n",
       "      <td>0.124378</td>\n",
       "      <td>0.377880</td>\n",
       "      <td>0.000000</td>\n",
       "      <td>3.954545</td>\n",
       "      <td>4.342857</td>\n",
       "    </tr>\n",
       "    <tr>\n",
       "      <th>South Dakota</th>\n",
       "      <td>12873.923077</td>\n",
       "      <td>0.080645</td>\n",
       "      <td>38205.468067</td>\n",
       "      <td>38940.777302</td>\n",
       "      <td>401.337273</td>\n",
       "      <td>376.692809</td>\n",
       "      <td>31.194683</td>\n",
       "      <td>0.004597</td>\n",
       "      <td>0.046673</td>\n",
       "      <td>0.123339</td>\n",
       "      <td>0.107529</td>\n",
       "      <td>0.477183</td>\n",
       "      <td>NaN</td>\n",
       "      <td>NaN</td>\n",
       "      <td>0.210870</td>\n",
       "    </tr>\n",
       "    <tr>\n",
       "      <th>Georgia</th>\n",
       "      <td>63517.798742</td>\n",
       "      <td>0.050725</td>\n",
       "      <td>35063.473851</td>\n",
       "      <td>35709.320068</td>\n",
       "      <td>1071.278499</td>\n",
       "      <td>991.909094</td>\n",
       "      <td>17.470299</td>\n",
       "      <td>0.005519</td>\n",
       "      <td>0.014530</td>\n",
       "      <td>0.183531</td>\n",
       "      <td>0.167525</td>\n",
       "      <td>0.387871</td>\n",
       "      <td>0.000000</td>\n",
       "      <td>3.000000</td>\n",
       "      <td>2.190909</td>\n",
       "    </tr>\n",
       "    <tr>\n",
       "      <th>South Carolina</th>\n",
       "      <td>105100.000000</td>\n",
       "      <td>0.086957</td>\n",
       "      <td>34549.575530</td>\n",
       "      <td>34079.331786</td>\n",
       "      <td>950.564328</td>\n",
       "      <td>803.967034</td>\n",
       "      <td>18.220060</td>\n",
       "      <td>0.005557</td>\n",
       "      <td>0.012349</td>\n",
       "      <td>0.154973</td>\n",
       "      <td>0.131978</td>\n",
       "      <td>0.399817</td>\n",
       "      <td>0.000000</td>\n",
       "      <td>4.750000</td>\n",
       "      <td>12.215217</td>\n",
       "    </tr>\n",
       "    <tr>\n",
       "      <th>Arizona</th>\n",
       "      <td>448572.000000</td>\n",
       "      <td>0.333333</td>\n",
       "      <td>34481.102786</td>\n",
       "      <td>32706.472515</td>\n",
       "      <td>1053.710391</td>\n",
       "      <td>915.369097</td>\n",
       "      <td>17.568781</td>\n",
       "      <td>0.009412</td>\n",
       "      <td>0.018107</td>\n",
       "      <td>0.044125</td>\n",
       "      <td>0.032497</td>\n",
       "      <td>0.356382</td>\n",
       "      <td>NaN</td>\n",
       "      <td>NaN</td>\n",
       "      <td>58.966667</td>\n",
       "    </tr>\n",
       "  </tbody>\n",
       "</table>\n",
       "</div>"
      ],
      "text/plain": [
       "                    residents  com_airports  cases_per_mil  n_cases_per_mil  \\\n",
       "state                                                                         \n",
       "Mississippi      36453.780488      0.088608   42046.635536     40882.370567   \n",
       "Florida         297528.880597      0.287879   41659.309143     38588.084363   \n",
       "Louisiana        72588.828125      0.109375   40979.939891     38334.530220   \n",
       "North Dakota     13890.000000      0.153846   39371.152418     43961.431971   \n",
       "Tennessee        68926.368421      0.070588   38889.184392     34341.278290   \n",
       "Alabama          72255.895522      0.090909   38584.669904     37901.643419   \n",
       "South Dakota     12873.923077      0.080645   38205.468067     38940.777302   \n",
       "Georgia          63517.798742      0.050725   35063.473851     35709.320068   \n",
       "South Carolina  105100.000000      0.086957   34549.575530     34079.331786   \n",
       "Arizona         448572.000000      0.333333   34481.102786     32706.472515   \n",
       "\n",
       "                deaths_per_mil  n_deaths_per_mil  businesses_per_k  \\\n",
       "state                                                                \n",
       "Mississippi        1352.882258       1220.792409         17.282610   \n",
       "Florida             801.153318        763.966548         21.717755   \n",
       "Louisiana          1264.353230       1169.370614         18.561908   \n",
       "North Dakota        610.632398        619.133854         34.858687   \n",
       "Tennessee           520.799225        468.451309         16.392765   \n",
       "Alabama             769.923018        726.005701         17.310386   \n",
       "South Dakota        401.337273        376.692809         31.194683   \n",
       "Georgia            1071.278499        991.909094         17.470299   \n",
       "South Carolina      950.564328        803.967034         18.220060   \n",
       "Arizona            1053.710391        915.369097         17.568781   \n",
       "\n",
       "                %transit_commuters  %home_worker  %commute_in  %commute_out  \\\n",
       "state                                                                         \n",
       "Mississippi               0.004325      0.007737     0.151962      0.126391   \n",
       "Florida                   0.010743      0.018227     0.113792      0.105818   \n",
       "Louisiana                 0.005455      0.008752     0.151273      0.137814   \n",
       "North Dakota              0.003712      0.044069     0.110225      0.100667   \n",
       "Tennessee                 0.002930      0.013745     0.163687      0.147583   \n",
       "Alabama                   0.002732      0.009441     0.149890      0.124378   \n",
       "South Dakota              0.004597      0.046673     0.123339      0.107529   \n",
       "Georgia                   0.005519      0.014530     0.183531      0.167525   \n",
       "South Carolina            0.005557      0.012349     0.154973      0.131978   \n",
       "Arizona                   0.009412      0.018107     0.044125      0.032497   \n",
       "\n",
       "                %workers   marinas      docks  miles_passenger_rail  \n",
       "state                                                                \n",
       "Mississippi     0.366052  0.000000   3.266667              8.095588  \n",
       "Florida         0.379421  0.095238   7.714286             10.035000  \n",
       "Louisiana       0.388845  0.000000  15.343750              7.629091  \n",
       "North Dakota    0.496195       NaN        NaN              8.470000  \n",
       "Tennessee       0.395305  0.000000   2.272727              2.343836  \n",
       "Alabama         0.377880  0.000000   3.954545              4.342857  \n",
       "South Dakota    0.477183       NaN        NaN              0.210870  \n",
       "Georgia         0.387871  0.000000   3.000000              2.190909  \n",
       "South Carolina  0.399817  0.000000   4.750000             12.215217  \n",
       "Arizona         0.356382       NaN        NaN             58.966667  "
      ]
     },
     "execution_count": 542,
     "metadata": {},
     "output_type": "execute_result"
    }
   ],
   "source": [
    "state_df = df.groupby('state').mean()\n",
    "state_df.sort_values('cases_per_mil', inplace=True, ascending=False)\n",
    "# state_df.sort_values('deaths_per_mil', inplace=True, ascending=False)\n",
    "state_df.head(10)\n",
    "\n",
    "# (by='col1', ascending=False, na_position='first')"
   ]
  },
  {
   "cell_type": "code",
   "execution_count": 589,
   "metadata": {},
   "outputs": [
    {
     "data": {
      "text/plain": [
       "array([[<matplotlib.axes._subplots.AxesSubplot object at 0x7ff136fd4550>,\n",
       "        <matplotlib.axes._subplots.AxesSubplot object at 0x7ff136fe9460>],\n",
       "       [<matplotlib.axes._subplots.AxesSubplot object at 0x7ff1358b6b50>,\n",
       "        <matplotlib.axes._subplots.AxesSubplot object at 0x7ff1358e6310>]],\n",
       "      dtype=object)"
      ]
     },
     "execution_count": 589,
     "metadata": {},
     "output_type": "execute_result"
    },
    {
     "data": {
      "image/png": "[encoded data removed]",
      "text/plain": [
       "<Figure size 360x360 with 4 Axes>"
      ]
     },
     "metadata": {},
     "output_type": "display_data"
    }
   ],
   "source": [
    "pd.plotting.scatter_matrix(df[['cases_per_mil','n_cases_per_mil']],\\\n",
    "                           figsize=(5,5),s=100,c='black')"
   ]
  },
  {
   "cell_type": "code",
   "execution_count": 590,
   "metadata": {
    "scrolled": true
   },
   "outputs": [
    {
     "data": {
      "text/plain": [
       "array([[<matplotlib.axes._subplots.AxesSubplot object at 0x7ff136f199d0>,\n",
       "        <matplotlib.axes._subplots.AxesSubplot object at 0x7ff1372ba3a0>],\n",
       "       [<matplotlib.axes._subplots.AxesSubplot object at 0x7ff1372e4a90>,\n",
       "        <matplotlib.axes._subplots.AxesSubplot object at 0x7ff1373cc250>]],\n",
       "      dtype=object)"
      ]
     },
     "execution_count": 590,
     "metadata": {},
     "output_type": "execute_result"
    },
    {
     "data": {
      "image/png": "[encoded data removed]",
      "text/plain": [
       "<Figure size 216x216 with 4 Axes>"
      ]
     },
     "metadata": {},
     "output_type": "display_data"
    }
   ],
   "source": [
    "pd.plotting.scatter_matrix(state_df[['cases_per_mil','n_cases_per_mil']],\\\n",
    "                           figsize=(3,3),s=100,c='black')"
   ]
  },
  {
   "cell_type": "code",
   "execution_count": 488,
   "metadata": {},
   "outputs": [],
   "source": [
    "al = df[df['state']=='Alabama']"
   ]
  },
  {
   "cell_type": "code",
   "execution_count": 591,
   "metadata": {},
   "outputs": [
    {
     "data": {
      "text/plain": [
       "array([[<matplotlib.axes._subplots.AxesSubplot object at 0x7ff13757e5b0>,\n",
       "        <matplotlib.axes._subplots.AxesSubplot object at 0x7ff1375a4820>],\n",
       "       [<matplotlib.axes._subplots.AxesSubplot object at 0x7ff137603f10>,\n",
       "        <matplotlib.axes._subplots.AxesSubplot object at 0x7ff1376376d0>]],\n",
       "      dtype=object)"
      ]
     },
     "execution_count": 591,
     "metadata": {},
     "output_type": "execute_result"
    },
    {
     "data": {
      "image/png": "[encoded data removed]",
      "text/plain": [
       "<Figure size 288x288 with 4 Axes>"
      ]
     },
     "metadata": {},
     "output_type": "display_data"
    }
   ],
   "source": [
    "pd.plotting.scatter_matrix(al[['cases_per_mil','n_cases_per_mil']],\\\n",
    "                           figsize=(4,4),s=100,c='black')"
   ]
  },
  {
   "cell_type": "code",
   "execution_count": 490,
   "metadata": {},
   "outputs": [],
   "source": [
    "ca = df[df['state']=='California']"
   ]
  },
  {
   "cell_type": "code",
   "execution_count": 592,
   "metadata": {
    "scrolled": true
   },
   "outputs": [
    {
     "data": {
      "text/plain": [
       "array([[<matplotlib.axes._subplots.AxesSubplot object at 0x7ff1376e55e0>,\n",
       "        <matplotlib.axes._subplots.AxesSubplot object at 0x7ff1377054c0>],\n",
       "       [<matplotlib.axes._subplots.AxesSubplot object at 0x7ff13772fbb0>,\n",
       "        <matplotlib.axes._subplots.AxesSubplot object at 0x7ff1377c3370>]],\n",
       "      dtype=object)"
      ]
     },
     "execution_count": 592,
     "metadata": {},
     "output_type": "execute_result"
    },
    {
     "data": {
      "image/png": "[encoded data removed]",
      "text/plain": [
       "<Figure size 216x216 with 4 Axes>"
      ]
     },
     "metadata": {},
     "output_type": "display_data"
    }
   ],
   "source": [
    "pd.plotting.scatter_matrix(ca[['cases_per_mil','n_cases_per_mil']],\\\n",
    "                           figsize=(3,3),s=100,c='black')"
   ]
  },
  {
   "cell_type": "code",
   "execution_count": 595,
   "metadata": {},
   "outputs": [],
   "source": [
    "ga = df[df['state']=='Georgia']"
   ]
  },
  {
   "cell_type": "code",
   "execution_count": 597,
   "metadata": {},
   "outputs": [
    {
     "data": {
      "text/plain": [
       "array([[<matplotlib.axes._subplots.AxesSubplot object at 0x7ff137dc4eb0>,\n",
       "        <matplotlib.axes._subplots.AxesSubplot object at 0x7ff137e66820>],\n",
       "       [<matplotlib.axes._subplots.AxesSubplot object at 0x7ff137deb760>,\n",
       "        <matplotlib.axes._subplots.AxesSubplot object at 0x7ff137e16ee0>]],\n",
       "      dtype=object)"
      ]
     },
     "execution_count": 597,
     "metadata": {},
     "output_type": "execute_result"
    },
    {
     "data": {
      "image/png": "[encoded data removed]",
      "text/plain": [
       "<Figure size 360x360 with 4 Axes>"
      ]
     },
     "metadata": {},
     "output_type": "display_data"
    }
   ],
   "source": [
    "pd.plotting.scatter_matrix(ga[['cases_per_mil','n_cases_per_mil']],\\\n",
    "                           figsize=(5,5),s=100,c='black')"
   ]
  },
  {
   "cell_type": "code",
   "execution_count": 501,
   "metadata": {},
   "outputs": [],
   "source": [
    "ny = df[df['state']=='New York']"
   ]
  },
  {
   "cell_type": "code",
   "execution_count": 598,
   "metadata": {
    "scrolled": true
   },
   "outputs": [
    {
     "data": {
      "text/plain": [
       "array([[<matplotlib.axes._subplots.AxesSubplot object at 0x7ff137fac3d0>,\n",
       "        <matplotlib.axes._subplots.AxesSubplot object at 0x7ff138113640>],\n",
       "       [<matplotlib.axes._subplots.AxesSubplot object at 0x7ff13813dd30>,\n",
       "        <matplotlib.axes._subplots.AxesSubplot object at 0x7ff1382234f0>]],\n",
       "      dtype=object)"
      ]
     },
     "execution_count": 598,
     "metadata": {},
     "output_type": "execute_result"
    },
    {
     "data": {
      "image/png": "[encoded data removed]",
      "text/plain": [
       "<Figure size 216x216 with 4 Axes>"
      ]
     },
     "metadata": {},
     "output_type": "display_data"
    }
   ],
   "source": [
    "pd.plotting.scatter_matrix(ny[['cases_per_mil','n_cases_per_mil']],\\\n",
    "                           figsize=(3,3),s=100,c='black')"
   ]
  },
  {
   "cell_type": "code",
   "execution_count": 503,
   "metadata": {},
   "outputs": [],
   "source": [
    "la = df[df['state']=='Louisiana']"
   ]
  },
  {
   "cell_type": "code",
   "execution_count": 599,
   "metadata": {
    "scrolled": true
   },
   "outputs": [
    {
     "data": {
      "text/plain": [
       "array([[<matplotlib.axes._subplots.AxesSubplot object at 0x7ff13824e2e0>,\n",
       "        <matplotlib.axes._subplots.AxesSubplot object at 0x7ff1382e9430>],\n",
       "       [<matplotlib.axes._subplots.AxesSubplot object at 0x7ff138357b20>,\n",
       "        <matplotlib.axes._subplots.AxesSubplot object at 0x7ff13838c2e0>]],\n",
       "      dtype=object)"
      ]
     },
     "execution_count": 599,
     "metadata": {},
     "output_type": "execute_result"
    },
    {
     "data": {
      "image/png": "[encoded data removed]",
      "text/plain": [
       "<Figure size 216x216 with 4 Axes>"
      ]
     },
     "metadata": {},
     "output_type": "display_data"
    }
   ],
   "source": [
    "pd.plotting.scatter_matrix(la[['cases_per_mil','n_cases_per_mil']],\\\n",
    "                           figsize=(3,3),s=100,c='black')"
   ]
  },
  {
   "cell_type": "code",
   "execution_count": 505,
   "metadata": {},
   "outputs": [],
   "source": [
    "fl = df[df['state']=='Florida']"
   ]
  },
  {
   "cell_type": "code",
   "execution_count": 600,
   "metadata": {},
   "outputs": [
    {
     "data": {
      "text/plain": [
       "array([[<matplotlib.axes._subplots.AxesSubplot object at 0x7ff13840b400>,\n",
       "        <matplotlib.axes._subplots.AxesSubplot object at 0x7ff13845f220>],\n",
       "       [<matplotlib.axes._subplots.AxesSubplot object at 0x7ff1384cb910>,\n",
       "        <matplotlib.axes._subplots.AxesSubplot object at 0x7ff1384f4130>]],\n",
       "      dtype=object)"
      ]
     },
     "execution_count": 600,
     "metadata": {},
     "output_type": "execute_result"
    },
    {
     "data": {
      "image/png": "[encoded data removed]",
      "text/plain": [
       "<Figure size 360x360 with 4 Axes>"
      ]
     },
     "metadata": {},
     "output_type": "display_data"
    }
   ],
   "source": [
    "pd.plotting.scatter_matrix(fl[['cases_per_mil','n_cases_per_mil']],\\\n",
    "                           figsize=(5,5),s=100,c='black')"
   ]
  },
  {
   "cell_type": "code",
   "execution_count": 419,
   "metadata": {},
   "outputs": [],
   "source": [
    "# tcd['fips'].isin(['02050']).any()\n",
    "# tcd[tcd['fips']=='01021']\n",
    "# print(tcd.loc[tcd['fips'] == k, ['fips','covid_cases','residents']])"
   ]
  }
 ],
 "metadata": {
  "kernelspec": {
   "display_name": "Python 3",
   "language": "python",
   "name": "python3"
  },
  "language_info": {
   "codemirror_mode": {
    "name": "ipython",
    "version": 3
   },
   "file_extension": ".py",
   "mimetype": "text/x-python",
   "name": "python",
   "nbconvert_exporter": "python",
   "pygments_lexer": "ipython3",
   "version": "3.8.3"
  }
 },
 "nbformat": 4,
 "nbformat_minor": 4
}
