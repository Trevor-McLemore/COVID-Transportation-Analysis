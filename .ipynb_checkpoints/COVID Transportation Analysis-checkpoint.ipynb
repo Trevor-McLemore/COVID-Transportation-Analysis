{
 "cells": [
  {
   "cell_type": "code",
   "execution_count": 223,
   "metadata": {},
   "outputs": [],
   "source": [
    "import numpy as np\n",
    "import pandas as pd\n",
    "import matplotlib.pyplot as plt\n",
    "%matplotlib inline\n",
    "plt.style.use('ggplot')"
   ]
  },
  {
   "cell_type": "code",
   "execution_count": 326,
   "metadata": {
    "scrolled": true
   },
   "outputs": [],
   "source": [
    "# county_adjac = pd.read_csv('county_adjacency.txt')\n",
    "\n",
    "with open('county_adjacency.txt', 'rb') as f:\n",
    "    string = ''\n",
    "    for _ in f:\n",
    "        string += f'{_}'\n",
    "    \n",
    "    nums_str = ''\n",
    "    marked_string = string.replace(\"n'b'\", \"~\")\n",
    "    for char in marked_string:\n",
    "        if char.isdigit() or char in '~':\n",
    "            nums_str += char\n",
    "    \n",
    "    neighbor_list = []\n",
    "    k = ''\n",
    "    nums_list = nums_str.split('~')\n",
    "    d = {}\n",
    "    \n",
    "    for num in nums_list:\n",
    "        if len(num) == 10:\n",
    "            d[k] = neighbor_list\n",
    "            k = ''\n",
    "            v = ''\n",
    "            for nu in range(5):\n",
    "                k += num[nu]\n",
    "            for n in range(5, 10):\n",
    "                v += num[n]\n",
    "            neighbor_list = [v]\n",
    "        if len(num) == 5:\n",
    "            neighbor_list.append(num)\n",
    "    d[k] = neighbor_list\n",
    "    d.pop('')\n",
    "            \n",
    "#     x = f.read()\n",
    "#     x"
   ]
  },
  {
   "cell_type": "code",
   "execution_count": 359,
   "metadata": {},
   "outputs": [
    {
     "name": "stdout",
     "output_type": "stream",
     "text": [
      "3213\n"
     ]
    }
   ],
   "source": [
    "print(len(d))\n",
    "# print(d)"
   ]
  },
  {
   "cell_type": "code",
   "execution_count": 102,
   "metadata": {},
   "outputs": [],
   "source": [
    "# neighbors=pd.DataFrame.from_dict(d,orient='index')\n",
    "# neighbors = neighbors.reset_index()\n",
    "# neighbors = neighbors.rename(columns={'index':'fips'})\n",
    "# # neighbors.describe()\n",
    "# print(neighbors.shape)\n",
    "# neighbors.head()"
   ]
  },
  {
   "cell_type": "code",
   "execution_count": 260,
   "metadata": {},
   "outputs": [],
   "source": [
    "# county_pop = pd.read_csv('covid_county_population_usafacts.csv')\n",
    "# county_pop = county_pop[['countyFIPS', 'population']]\n",
    "# print(county_pop.shape)"
   ]
  },
  {
   "cell_type": "code",
   "execution_count": 414,
   "metadata": {
    "scrolled": true
   },
   "outputs": [
    {
     "name": "stdout",
     "output_type": "stream",
     "text": [
      "(3195, 278)\n",
      "(3195, 2)\n"
     ]
    }
   ],
   "source": [
    "county_case = pd.read_csv('covid_confirmed_usafacts.csv')\n",
    "case_cumul = county_case[['countyFIPS', '10/21/20']]\n",
    "case_cumul = case_cumul.rename(columns={'countyFIPS':'fips'})\n",
    "case_cumul = case_cumul.rename(columns={'10/21/20':'covid_cases'})\n",
    "print(county_case.shape)\n",
    "print(case_cumul.shape)"
   ]
  },
  {
   "cell_type": "code",
   "execution_count": 339,
   "metadata": {},
   "outputs": [
    {
     "name": "stdout",
     "output_type": "stream",
     "text": [
      "(3195, 278)\n",
      "(3195, 2)\n"
     ]
    }
   ],
   "source": [
    "county_death = pd.read_csv('covid_deaths_usafacts.csv')\n",
    "death_cumul = county_death[['countyFIPS', '10/21/20']]\n",
    "death_cumul = death_cumul.rename(columns={'countyFIPS':'fips'})\n",
    "death_cumul = death_cumul.rename(columns={'10/21/20':'covid_deaths'})\n",
    "print(county_death.shape)\n",
    "print(death_cumul.shape)"
   ]
  },
  {
   "cell_type": "code",
   "execution_count": 338,
   "metadata": {},
   "outputs": [
    {
     "name": "stdout",
     "output_type": "stream",
     "text": [
      "(3142, 22)\n"
     ]
    }
   ],
   "source": [
    "county_transpo = pd.read_csv('County_Transportation_Profiles.csv')\n",
    "county_transpo = county_transpo.rename(columns={'County FIPS':'fips'})\n",
    "print(county_transpo.shape)\n",
    "# county_transpo.head()"
   ]
  },
  {
   "cell_type": "code",
   "execution_count": 398,
   "metadata": {
    "scrolled": true
   },
   "outputs": [
    {
     "name": "stdout",
     "output_type": "stream",
     "text": [
      "(3142, 24)\n"
     ]
    },
    {
     "data": {
      "text/html": [
       "<div>\n",
       "<style scoped>\n",
       "    .dataframe tbody tr th:only-of-type {\n",
       "        vertical-align: middle;\n",
       "    }\n",
       "\n",
       "    .dataframe tbody tr th {\n",
       "        vertical-align: top;\n",
       "    }\n",
       "\n",
       "    .dataframe thead th {\n",
       "        text-align: right;\n",
       "    }\n",
       "</style>\n",
       "<table border=\"1\" class=\"dataframe\">\n",
       "  <thead>\n",
       "    <tr style=\"text-align: right;\">\n",
       "      <th></th>\n",
       "      <th>state</th>\n",
       "      <th>com_airports</th>\n",
       "      <th>%transit_commuters</th>\n",
       "      <th>marinas</th>\n",
       "      <th>docks</th>\n",
       "      <th>miles_passenger_rail</th>\n",
       "      <th>cases_per_mil</th>\n",
       "      <th>deaths_per_mil</th>\n",
       "      <th>businesses_per_k</th>\n",
       "      <th>%home_worker</th>\n",
       "      <th>%commute_in</th>\n",
       "      <th>%commute_out</th>\n",
       "      <th>%workers</th>\n",
       "    </tr>\n",
       "    <tr>\n",
       "      <th>fips</th>\n",
       "      <th></th>\n",
       "      <th></th>\n",
       "      <th></th>\n",
       "      <th></th>\n",
       "      <th></th>\n",
       "      <th></th>\n",
       "      <th></th>\n",
       "      <th></th>\n",
       "      <th></th>\n",
       "      <th></th>\n",
       "      <th></th>\n",
       "      <th></th>\n",
       "      <th></th>\n",
       "    </tr>\n",
       "  </thead>\n",
       "  <tbody>\n",
       "    <tr>\n",
       "      <th>01001</th>\n",
       "      <td>Alabama</td>\n",
       "      <td>0.0</td>\n",
       "      <td>0.000782</td>\n",
       "      <td>NaN</td>\n",
       "      <td>NaN</td>\n",
       "      <td>0.0</td>\n",
       "      <td>36712.079927</td>\n",
       "      <td>544.959128</td>\n",
       "      <td>15.785649</td>\n",
       "      <td>0.009264</td>\n",
       "      <td>0.282943</td>\n",
       "      <td>0.280054</td>\n",
       "      <td>0.441417</td>\n",
       "    </tr>\n",
       "    <tr>\n",
       "      <th>01003</th>\n",
       "      <td>Alabama</td>\n",
       "      <td>0.0</td>\n",
       "      <td>0.002143</td>\n",
       "      <td>0.0</td>\n",
       "      <td>1.0</td>\n",
       "      <td>0.0</td>\n",
       "      <td>32294.120595</td>\n",
       "      <td>345.847326</td>\n",
       "      <td>26.986116</td>\n",
       "      <td>0.021954</td>\n",
       "      <td>0.120350</td>\n",
       "      <td>0.088958</td>\n",
       "      <td>0.432610</td>\n",
       "    </tr>\n",
       "    <tr>\n",
       "      <th>01005</th>\n",
       "      <td>Alabama</td>\n",
       "      <td>0.0</td>\n",
       "      <td>0.003984</td>\n",
       "      <td>0.0</td>\n",
       "      <td>0.0</td>\n",
       "      <td>0.0</td>\n",
       "      <td>37422.506106</td>\n",
       "      <td>338.155176</td>\n",
       "      <td>17.095623</td>\n",
       "      <td>0.004133</td>\n",
       "      <td>0.088972</td>\n",
       "      <td>0.070299</td>\n",
       "      <td>0.330077</td>\n",
       "    </tr>\n",
       "    <tr>\n",
       "      <th>01007</th>\n",
       "      <td>Alabama</td>\n",
       "      <td>0.0</td>\n",
       "      <td>0.004710</td>\n",
       "      <td>NaN</td>\n",
       "      <td>NaN</td>\n",
       "      <td>5.5</td>\n",
       "      <td>35489.587949</td>\n",
       "      <td>620.292424</td>\n",
       "      <td>12.583075</td>\n",
       "      <td>0.004431</td>\n",
       "      <td>0.215685</td>\n",
       "      <td>0.213381</td>\n",
       "      <td>0.366859</td>\n",
       "    </tr>\n",
       "    <tr>\n",
       "      <th>01009</th>\n",
       "      <td>Alabama</td>\n",
       "      <td>0.0</td>\n",
       "      <td>0.001639</td>\n",
       "      <td>NaN</td>\n",
       "      <td>NaN</td>\n",
       "      <td>0.0</td>\n",
       "      <td>32458.192531</td>\n",
       "      <td>433.238021</td>\n",
       "      <td>12.096006</td>\n",
       "      <td>0.008318</td>\n",
       "      <td>0.245577</td>\n",
       "      <td>0.242284</td>\n",
       "      <td>0.369985</td>\n",
       "    </tr>\n",
       "  </tbody>\n",
       "</table>\n",
       "</div>"
      ],
      "text/plain": [
       "         state  com_airports  %transit_commuters  marinas  docks  \\\n",
       "fips                                                               \n",
       "01001  Alabama           0.0            0.000782      NaN    NaN   \n",
       "01003  Alabama           0.0            0.002143      0.0    1.0   \n",
       "01005  Alabama           0.0            0.003984      0.0    0.0   \n",
       "01007  Alabama           0.0            0.004710      NaN    NaN   \n",
       "01009  Alabama           0.0            0.001639      NaN    NaN   \n",
       "\n",
       "       miles_passenger_rail  cases_per_mil  deaths_per_mil  businesses_per_k  \\\n",
       "fips                                                                           \n",
       "01001                   0.0   36712.079927      544.959128         15.785649   \n",
       "01003                   0.0   32294.120595      345.847326         26.986116   \n",
       "01005                   0.0   37422.506106      338.155176         17.095623   \n",
       "01007                   5.5   35489.587949      620.292424         12.583075   \n",
       "01009                   0.0   32458.192531      433.238021         12.096006   \n",
       "\n",
       "       %home_worker  %commute_in  %commute_out  %workers  \n",
       "fips                                                      \n",
       "01001      0.009264     0.282943      0.280054  0.441417  \n",
       "01003      0.021954     0.120350      0.088958  0.432610  \n",
       "01005      0.004133     0.088972      0.070299  0.330077  \n",
       "01007      0.004431     0.215685      0.213381  0.366859  \n",
       "01009      0.008318     0.245577      0.242284  0.369985  "
      ]
     },
     "execution_count": 398,
     "metadata": {},
     "output_type": "execute_result"
    }
   ],
   "source": [
    "tc = pd.merge(county_transpo, case_cumul, how = 'inner', on='fips')\n",
    "tcd = pd.merge(tc, death_cumul, how = 'inner', on='fips')\n",
    "tcd['fips'] = tcd['fips'].astype(str)\n",
    "tcd['fips'] = tcd['fips'].str.zfill(5)\n",
    "\n",
    "tcd = tcd.rename(columns={'State Name':'state','Primary and Commercial Airports':'com_airports',\\\n",
    "                         'Number of Bridges':'bridges','Number of business establishments':'businesses',\\\n",
    "                         'Percent of resident workers who commute by transit':'%transit_commuters',\\\n",
    "                         'Number of resident workers who work at home':'work_at_home',\\\n",
    "                         'Number of workers from other counties who commute to work in the county':'commute_in',\\\n",
    "                         'Number of resident workers who commute to work in other counties':'commute_out',\\\n",
    "                         'Number of resident workers who commute within county':'commute_within',\\\n",
    "                         'Number of resident workers':'resident_workers','Number of residents':'residents',\\\n",
    "                         'Total Marinas':'marinas','Total Docks':'docks',\\\n",
    "                         'Route miles of passenger railroad and rail transit':'miles_passenger_rail'})\n",
    "df = tcd[['fips','state','com_airports','%transit_commuters','marinas','docks','miles_passenger_rail']].copy()\n",
    "df['cases_per_mil'] = 1000000 * tcd['covid_cases'] / tcd['residents']\n",
    "df['deaths_per_mil'] = 1000000 * tcd['covid_deaths'] / tcd['residents']\n",
    "df['businesses_per_k'] = 1000 * tcd['businesses'] / tcd['residents']\n",
    "df['%home_worker'] = tcd['work_at_home'] / tcd['residents']\n",
    "df['%commute_in'] = tcd['commute_in'] / tcd['residents']\n",
    "df['%commute_out'] = tcd['commute_out'] / tcd['residents']\n",
    "df['%workers'] = tcd['resident_workers'] / tcd['residents']\n",
    "df.set_index('fips', inplace=True)\n",
    "\n",
    "print(tcd.shape)\n",
    "df.head()"
   ]
  },
  {
   "cell_type": "code",
   "execution_count": 418,
   "metadata": {},
   "outputs": [
    {
     "name": "stdout",
     "output_type": "stream",
     "text": [
      "(3137, 24)\n",
      "(3137, 13)\n",
      "3137\n"
     ]
    }
   ],
   "source": [
    "tcd = tcd[tcd['fips'].isin(d2)]\n",
    "df = df[df.index.isin(d2)]\n",
    "print(tcd.shape)\n",
    "print(df.shape)\n",
    "print(len(d2))"
   ]
  },
  {
   "cell_type": "code",
   "execution_count": 369,
   "metadata": {},
   "outputs": [
    {
     "name": "stdout",
     "output_type": "stream",
     "text": [
      "3137\n"
     ]
    }
   ],
   "source": [
    "d2 = {}\n",
    "val_list = []\n",
    "\n",
    "for k,val in d.items():\n",
    "    if tcd['fips'].isin([k]).any():\n",
    "        for v in val:\n",
    "            if v != k:\n",
    "                val_list.append(v)\n",
    "        d2[k] = val_list\n",
    "        val_list = []\n",
    "        \n",
    "print(len(d2))\n",
    "# print(d2)"
   ]
  },
  {
   "cell_type": "code",
   "execution_count": 374,
   "metadata": {},
   "outputs": [],
   "source": [
    "key_list = []\n",
    "case_lst = []\n",
    "\n",
    "for k, val in d2.items():\n",
    "#     print(f'k=:{k}')\n",
    "    key_list.append(k)    \n",
    "    case_count = 0\n",
    "    \n",
    "    for v in val:\n",
    "#         print(f'v=:{v}')\n",
    "        if tcd['fips'].isin([v]).any():\n",
    "            case_count = case_count + tcd.loc[v == tcd['fips'], ['covid_cases']]['covid_cases'].values[0]\n",
    "#           print(f'\\n{case_count}\\n')\n",
    "\n",
    "    case_lst.append(case_count)\n"
   ]
  },
  {
   "cell_type": "code",
   "execution_count": 377,
   "metadata": {
    "scrolled": true
   },
   "outputs": [
    {
     "name": "stdout",
     "output_type": "stream",
     "text": [
      "3137\n",
      "3137\n"
     ]
    }
   ],
   "source": [
    "print(len(key_list))\n",
    "print(len(case_lst))"
   ]
  },
  {
   "cell_type": "code",
   "execution_count": 375,
   "metadata": {
    "scrolled": false
   },
   "outputs": [
    {
     "name": "stdout",
     "output_type": "stream",
     "text": [
      "[1736, 2950, 10629, 6091, 1885, 1085, 5000, 2831, 2178, 2578, 3583, 9179, 2022, 3001, 5776]\n"
     ]
    }
   ],
   "source": [
    "print(case_lst[-15:])"
   ]
  },
  {
   "cell_type": "code",
   "execution_count": 376,
   "metadata": {
    "scrolled": true
   },
   "outputs": [],
   "source": [
    "# pd.plotting.scatter_matrix(df[['%transit_commuters','cases_per_mil']],figsize=(10,10),s=100,c='black')"
   ]
  },
  {
   "cell_type": "code",
   "execution_count": 419,
   "metadata": {},
   "outputs": [],
   "source": [
    "# tcd['fips'].isin(['02050']).any()\n",
    "# tcd[tcd['fips']=='01021']\n",
    "# print(tcd.loc[tcd['fips'] == k, ['fips','covid_cases','residents']])"
   ]
  }
 ],
 "metadata": {
  "kernelspec": {
   "display_name": "Python 3",
   "language": "python",
   "name": "python3"
  },
  "language_info": {
   "codemirror_mode": {
    "name": "ipython",
    "version": 3
   },
   "file_extension": ".py",
   "mimetype": "text/x-python",
   "name": "python",
   "nbconvert_exporter": "python",
   "pygments_lexer": "ipython3",
   "version": "3.8.3"
  }
 },
 "nbformat": 4,
 "nbformat_minor": 4
}
